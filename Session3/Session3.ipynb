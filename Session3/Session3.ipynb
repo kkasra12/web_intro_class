{
 "cells": [
  {
   "cell_type": "markdown",
   "metadata": {},
   "source": [
    "# What is Database?"
   ]
  },
  {
   "cell_type": "markdown",
   "metadata": {},
   "source": [
    "# Why DataBase is Important\n",
    "\n",
    "1. Share Data\n",
    "1. Higher Security\n",
    "1. Ease\n",
    "1. Consistency\n"
   ]
  },
  {
   "cell_type": "markdown",
   "metadata": {},
   "source": [
    "# Terminology\n",
    "\n",
    "- Database Management System(DBMS)\n",
    "- Database Administrator(DBA)\n",
    "- System programmer\n",
    "- End User"
   ]
  },
  {
   "cell_type": "markdown",
   "metadata": {},
   "source": [
    "![diagram.png](diagram.png)"
   ]
  },
  {
   "cell_type": "markdown",
   "metadata": {},
   "source": [
    "# ACID\n",
    "- Atomicity\n",
    "- Consistency\n",
    "- Isolation\n",
    "- Durability\n"
   ]
  },
  {
   "cell_type": "markdown",
   "metadata": {},
   "source": [
    "## Atomicity\n",
    "```sql\n",
    "Begin Transaction\n",
    "    Read(X,Acnt1)\n",
    "    Sub(X,1000)\n",
    "    Write(X,Acnt1)\n",
    "    Read(Y,Acnt2)\n",
    "    Add(Y,1000)\n",
    "    Write(Y,Acnt2)\n",
    "End Transaction\n",
    "```"
   ]
  },
  {
   "cell_type": "markdown",
   "metadata": {},
   "source": [
    "## Consistency\n",
    "Consistency in database systems refers to the requirement that any given database transaction must change affected data only in allowed ways."
   ]
  },
  {
   "cell_type": "markdown",
   "metadata": {},
   "source": [
    "## Ioslation  \n",
    "\n",
    "\n",
    "|Transaction1|Transaction2|\n",
    "|:-|:-|\n",
    "|Begin Transaction1   |Beging Transaction2|\n",
    "|Read(x,p)| Read(y,p)\n",
    "|INC(x)| DEC(y)\n",
    "|Write(x,p)| Write(y,p)\n",
    "|End Transaction1| End Transaction2\n"
   ]
  },
  {
   "cell_type": "markdown",
   "metadata": {},
   "source": [
    "# Durability\n",
    "Durability guarantees that transactions that have committed will survive permanently. For example, if a flight booking reports that a seat has successfully been booked, then the seat will remain booked even if the system crashes."
   ]
  },
  {
   "cell_type": "markdown",
   "metadata": {},
   "source": [
    "![database-transaction-performance.png](database-transaction-performance.png)"
   ]
  },
  {
   "cell_type": "markdown",
   "metadata": {},
   "source": [
    "# Types of Databases\n",
    "\n",
    "- **Relational database**\n",
    "- **NoSQL database(unstructured data)**\n",
    "- Centralised database.\n",
    "- Distributed database.\n",
    "- Personal database.\n",
    "- End-user database.\n",
    "- Commercial database.\n",
    "- Operational database.\n",
    "- Cloud database.\n",
    "- Object-oriented database.\n",
    "- Graph database."
   ]
  },
  {
   "cell_type": "markdown",
   "metadata": {},
   "source": [
    "# Relational Database terminologies\n",
    "- Entity\n",
    "- Attribute\n",
    "- Relation"
   ]
  },
  {
   "cell_type": "markdown",
   "metadata": {},
   "source": [
    "# ER Models\n",
    "\n",
    "we will skip this :)"
   ]
  },
  {
   "cell_type": "markdown",
   "metadata": {},
   "source": [
    "# Keys\n",
    "\n",
    "- **Super Key:** A super key is a group of single or multiple keys which identifies rows in a table.\n",
    "- **Candidate Key:** is a set of attributes that uniquely identify tuples in a table. Candidate Key is a super key wich is minimal.\n",
    "- **Primary Key:** One of candidate keys, which is chosen by DBA.\n",
    "- **Alternate Key:** Candidate keys, which are not primary\n",
    "- **Foreign Key:** is a column that creates a relationship between two tables. The purpose of Foreign keys is to maintain data integrity and allow navigation between two different instances of an entity.\n",
    "\n",
    "\n",
    "Chosed_courses\n",
    "\n",
    "| STD_ID | COURSE_ID | score \n",
    "| - | - | - \n",
    "| 9561005 | 8005697 | 12\n",
    "| 9561005 | 8003641 | 20\n",
    "| 9561006 | 8003641 | 10"
   ]
  },
  {
   "cell_type": "markdown",
   "metadata": {},
   "source": [
    "## Properties of a good key(primary key)\n",
    "\n",
    "1. Numerical\n",
    "1. Less attributes\n",
    "1. Consistent(secure from extrnal changes)"
   ]
  },
  {
   "cell_type": "markdown",
   "metadata": {},
   "source": [
    "# Relational algebra\n",
    "Since I know you hate mathematics, we will skape this😢.(Trust me, this is the sweetest part)"
   ]
  },
  {
   "cell_type": "markdown",
   "metadata": {},
   "source": [
    "## SQL\n",
    "\n",
    "- Data Definition Language(DDL)\n",
    "- Data Manipulation Language(DML)"
   ]
  },
  {
   "cell_type": "markdown",
   "metadata": {},
   "source": [
    "### DDL\n",
    "- Create Database\n",
    "\n",
    "```SQL\n",
    "CREATE {DATABASE | SCHEMA} [IF NOT EXISTS] db_name\n",
    "    [create_option] ...\n",
    "\n",
    "create_option: [DEFAULT] {\n",
    "    CHARACTER SET [=] charset_name\n",
    "  | COLLATE [=] collation_name\n",
    "}\n",
    "```\n",
    "- Create Table\n",
    "```SQL\n",
    "CREATE TABLE tbl_name(\n",
    "    attr1 domain[NOT NULL],\n",
    "    attr2 domain[NOT NULL],\n",
    "    [PRIMARY KEY (the key)],\n",
    "    [UNIQUE (alternative key)],\n",
    "    [FOREIGNKEY (key) REFERENCES (ref_tbl)\n",
    "        [ON UPDATE CASCADE],\n",
    "        [ON DELETE CASCADE], ]\n",
    "    [FOREIGN KEY...],\n",
    "    [CHECK(condition)] )\n",
    "    ```\n",
    "- Drop table\n",
    "- alter tables"
   ]
  },
  {
   "cell_type": "markdown",
   "metadata": {},
   "source": [
    "# Dive Into Coding\n",
    "\n",
    "Download *xampp* from [here](https://www.apachefriends.org/index.html)\n",
    "\n",
    "run it!"
   ]
  },
  {
   "cell_type": "markdown",
   "metadata": {},
   "source": [
    "## Phpmyadmin"
   ]
  },
  {
   "cell_type": "markdown",
   "metadata": {},
   "source": [
    "# Question\n",
    "\n",
    "1. insert all tables in the `Question` folder into a database.\n",
    "> Note that you are programmers, find an automated way to create `INSERT` queries.\n"
   ]
  },
  {
   "cell_type": "code",
   "execution_count": null,
   "metadata": {},
   "outputs": [],
   "source": []
  }
 ],
 "metadata": {
  "kernelspec": {
   "display_name": "Python 3",
   "language": "python",
   "name": "python3"
  },
  "language_info": {
   "codemirror_mode": {
    "name": "ipython",
    "version": 3
   },
   "file_extension": ".py",
   "mimetype": "text/x-python",
   "name": "python",
   "nbconvert_exporter": "python",
   "pygments_lexer": "ipython3",
   "version": "3.8.5"
  }
 },
 "nbformat": 4,
 "nbformat_minor": 4
}
