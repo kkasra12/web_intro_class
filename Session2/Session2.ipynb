{
 "cells": [
  {
   "cell_type": "markdown",
   "metadata": {
    "pycharm": {
     "name": "#%% md\n"
    }
   },
   "source": [
    "# More on `super()`"
   ]
  },
  {
   "cell_type": "code",
   "execution_count": null,
   "metadata": {
    "pycharm": {
     "name": "#%%\n"
    }
   },
   "outputs": [],
   "source": [
    "class User:\n",
    "    username: str\n",
    "    phone_number: str\n",
    "    passwd: str\n",
    "    def __init__(self,username,passwd,phone_number):\n",
    "        self.username = username\n",
    "        self.set_password(passwd)\n",
    "        # why we dont say:\n",
    "        # self.passwd = passwd\n",
    "        self.phone_number = phone_number\n",
    "\n",
    "    def set_password(self,passwd):\n",
    "        self.passwd = passwd\n",
    "\n",
    "    def change_password(self,new_passwd):\n",
    "        self.set_password(new_passwd)\n",
    "\n",
    "    def change_phone_number(self,new_phone_number):\n",
    "        self.phone_number = new_phone_number\n",
    "\n",
    "class UserLogger(User):\n",
    "    def change_password(self,new_passwd):\n",
    "        print(\"pass changed\")\n",
    "        super().change_password(new_passwd)\n",
    "\n",
    "    def change_phone_number(self,new_phone_number):\n",
    "        print(\"phone number changed\")\n",
    "        super(UserLogger, self).change_phone_number(new_phone_number)\n",
    "        # same as:\n",
    "        # super().change_phone_number(new_phone_number)\n",
    "\n",
    "\n",
    "kasra = UserLogger(\"kasra\",\"123\",\"456\")\n",
    "kasra.change_password(\"45667\")"
   ]
  },
  {
   "cell_type": "markdown",
   "metadata": {
    "pycharm": {
     "name": "#%% md\n"
    }
   },
   "source": [
    "# Multiple inheritance"
   ]
  },
  {
   "cell_type": "code",
   "execution_count": 41,
   "metadata": {
    "pycharm": {
     "name": "#%%\n"
    }
   },
   "outputs": [
    {
     "name": "stdout",
     "output_type": "stream",
     "text": [
      "test from Project_admin\n"
     ]
    }
   ],
   "source": [
    "class User:\n",
    "    username: str\n",
    "    phone_number: str\n",
    "    passwd: str\n",
    "    def __init__(self,username,passwd,phone_number):\n",
    "        self.username = username\n",
    "        self.set_password(passwd)\n",
    "        self.phone_number = phone_number\n",
    "\n",
    "    def set_password(self,passwd):\n",
    "        self.passwd = passwd\n",
    "\n",
    "    def change_password(self,new_passwd):\n",
    "        self.set_password(new_passwd)\n",
    "\n",
    "    def change_phone_number(self,new_phone_number):\n",
    "        self.phone_number = new_phone_number\n",
    "\n",
    "class Base_admin(User):\n",
    "    @staticmethod\n",
    "    def find_user(user):\n",
    "        # send appropriate query to database\n",
    "        return [User(\"kasra\",\"123\",\"345784\"),\n",
    "                User(\"kasraaaae\",\"12bfdb3\",\"345784\")]\n",
    "\n",
    "    @staticmethod\n",
    "    def iter_projects_done_by_freelancer(freelancer):\n",
    "        # check if freelancer is freelancer\n",
    "        if not freelancer.is_freelancer():\n",
    "            return\n",
    "        all_projects = [] # this is a query from database\n",
    "        for proj in all_projects:\n",
    "            if proj.freelancer == freelancer:\n",
    "                yield proj\n",
    "\n",
    "\n",
    "class Project_admin(Base_admin):\n",
    "    def __init__(self, username, passwd, phone_number,knowledge):\n",
    "        super(Base_admin,self).__init__(username, passwd, phone_number)\n",
    "        self.knowledge = knowledge\n",
    "        self.project = []\n",
    "        \n",
    "    def add_project(self,new_project):\n",
    "        print(\"project added\")\n",
    "#         new_project.admin = self\n",
    "        self.project.append(new_project)\n",
    "    \n",
    "    def test(self):\n",
    "        print(\"test from Project_admin\")\n",
    "        \n",
    "\n",
    "class Support_admin(Base_admin):\n",
    "    def __init__(self, username, passwd, phone_number,available_hours):\n",
    "        super().__init__(username, passwd, phone_number)\n",
    "        self.available_hours = available_hours\n",
    "        \n",
    "    def start_chat(self,user):\n",
    "        print(f\"chat started with {user}\")\n",
    "        pass\n",
    "    \n",
    "    def test(self):\n",
    "        print(\"test from Support_admin\")\n",
    "\n",
    "class Super_admin(Project_admin,Support_admin):\n",
    "    def __init__(self, username, passwd, phone_number, knowledge):\n",
    "        Support_admin.__init__(self,username, passwd, phone_number,knowledge)\n",
    "        Project_admin.__init__(self,username, passwd, phone_number,None)\n",
    "        \n",
    "\n",
    "    def test(self):\n",
    "        super().test()\n",
    "\n",
    "\n",
    "kasra = Super_admin(\"kasraaaa\",\"23524\",\"4356346\",\"3855334\")\n",
    "kasra.test()"
   ]
  },
  {
   "cell_type": "code",
   "execution_count": 22,
   "metadata": {
    "pycharm": {
     "name": "#%%\n"
    }
   },
   "outputs": [
    {
     "data": {
      "text/plain": [
       "(__main__.Super_admin,\n",
       " __main__.Project_admin,\n",
       " __main__.Support_admin,\n",
       " __main__.Base_admin,\n",
       " __main__.User,\n",
       " object)"
      ]
     },
     "execution_count": 22,
     "metadata": {},
     "output_type": "execute_result"
    }
   ],
   "source": [
    "Super_admin.__mro__"
   ]
  },
  {
   "cell_type": "markdown",
   "metadata": {
    "pycharm": {
     "name": "#%% md\n"
    }
   },
   "source": [
    "# Decorators\n",
    "![taylor.jpg](taylor.jpg)"
   ]
  },
  {
   "cell_type": "code",
   "execution_count": 32,
   "metadata": {
    "pycharm": {
     "name": "#%%\n"
    }
   },
   "outputs": [
    {
     "name": "stdout",
     "output_type": "stream",
     "text": [
      "-0.28768207245178085\n"
     ]
    },
    {
     "data": {
      "text/plain": [
       "1.3333333333333333"
      ]
     },
     "execution_count": 32,
     "metadata": {},
     "output_type": "execute_result"
    }
   ],
   "source": [
    "def simple_geometry(x,N=50):\n",
    "    return sum([x**i for i in range(N)])\n",
    "\n",
    "def ln1_x(x,N=50):\n",
    "    return -sum([x**i/i for i in range(1,N)])\n",
    "\n",
    "print(ln1_x(0.25))\n",
    "simple_geometry(0.25)"
   ]
  },
  {
   "cell_type": "code",
   "execution_count": 24,
   "metadata": {
    "pycharm": {
     "name": "#%%\n"
    }
   },
   "outputs": [
    {
     "data": {
      "text/plain": [
       "422550200076076467165567735125"
      ]
     },
     "execution_count": 24,
     "metadata": {},
     "output_type": "execute_result"
    }
   ],
   "source": [
    "simple_geometry(4)"
   ]
  },
  {
   "cell_type": "code",
   "execution_count": 25,
   "metadata": {},
   "outputs": [
    {
     "data": {
      "text/plain": [
       "1.3333333333333333"
      ]
     },
     "execution_count": 25,
     "metadata": {},
     "output_type": "execute_result"
    }
   ],
   "source": [
    "def abs_lt_one(x):\n",
    "    if not abs(x)<1:\n",
    "        x = 1/x\n",
    "    if x==1:\n",
    "        raise ValueError\n",
    "    return x\n",
    "\n",
    "def simple_geometry(x,N=50):\n",
    "    x = abs_lt_one(x)\n",
    "    return sum([x**i for i in range(N)])\n",
    "\n",
    "def ln1_x(x,N=50):\n",
    "    x = abs_lt_one(x)\n",
    "    return sum([x**i/i for i in range(N)])\n",
    "\n",
    "simple_geometry(4)"
   ]
  },
  {
   "cell_type": "code",
   "execution_count": 29,
   "metadata": {
    "pycharm": {
     "name": "#%%\n"
    }
   },
   "outputs": [
    {
     "data": {
      "text/plain": [
       "1.3333333333333333"
      ]
     },
     "execution_count": 29,
     "metadata": {},
     "output_type": "execute_result"
    }
   ],
   "source": [
    "def abs_lt_one(func,x):\n",
    "    if not abs(x)<1:\n",
    "        x = 1/x\n",
    "    if x==1:\n",
    "        raise ValueError\n",
    "    return func(x)\n",
    "\n",
    "def simple_geometry_(x,N=50):\n",
    "    return sum([x**i for i in range(N)])\n",
    "\n",
    "def ln1_x_(x,N=50):\n",
    "    return sum([x**i/i for i in range(N)])\n",
    "\n",
    "def simple_geometry(x,N=50):\n",
    "    return abs_lt_one(simple_geometry_,x)\n",
    "\n",
    "\n",
    "def ln1_x(x,N=50):\n",
    "    return abs_lt_one(ln1_x_,x)\n",
    "\n",
    "simple_geometry(4)"
   ]
  },
  {
   "cell_type": "code",
   "execution_count": 34,
   "metadata": {
    "pycharm": {
     "name": "#%%\n"
    }
   },
   "outputs": [
    {
     "name": "stdout",
     "output_type": "stream",
     "text": [
      "-0.28768207245178085\n"
     ]
    },
    {
     "data": {
      "text/plain": [
       "1.3333333333333333"
      ]
     },
     "execution_count": 34,
     "metadata": {},
     "output_type": "execute_result"
    }
   ],
   "source": [
    "def abs_lt_one(func):\n",
    "    def wrapper(x):\n",
    "        if abs(x)>=1:\n",
    "            x = 1/x\n",
    "        if x==1:\n",
    "            raise ValueError\n",
    "        return func(x)\n",
    "    return wrapper\n",
    "\n",
    "def simple_geometry(x,N=50):\n",
    "    return sum([x**i for i in range(N)])\n",
    "\n",
    "def ln1_x(x,N=50):\n",
    "    return -sum([x**i/i for i in range(1,N)])\n",
    "\n",
    "simple_geometry = abs_lt_one(simple_geometry)\n",
    "ln1_x = abs_lt_one(ln1_x)\n",
    "\n",
    "print(ln1_x(4))\n",
    "simple_geometry(4)"
   ]
  },
  {
   "cell_type": "code",
   "execution_count": null,
   "metadata": {
    "pycharm": {
     "name": "#%%\n"
    }
   },
   "outputs": [],
   "source": [
    "def abs_lt_one(func):\n",
    "    def wrapper(x):\n",
    "        if not 0<abs(x)<1:\n",
    "            x = 1/x\n",
    "        if x==1:\n",
    "            raise ValueError\n",
    "        return func(x)\n",
    "    return wrapper\n",
    "\n",
    "@abs_lt_one\n",
    "def simple_geometry(x,N=50):\n",
    "    return sum([x**i for i in range(N)])\n",
    "\n",
    "@abs_lt_one\n",
    "def ln1_x(x,N=50):\n",
    "    return sum([x**i/i for i in range(N)])\n",
    "\n",
    "\n",
    "simple_geometry(4)"
   ]
  },
  {
   "cell_type": "markdown",
   "metadata": {
    "pycharm": {
     "name": "#%% md\n"
    }
   },
   "source": [
    "# Questions\n",
    "1. function `simple_geometry` takes one additional parameter `N`,\n",
    "change the decorator in a way that can accept that parameter.\n",
    "1. find a way to transfer *docstring* after using decorators"
   ]
  }
 ],
 "metadata": {
  "kernelspec": {
   "display_name": "Python 3",
   "language": "python",
   "name": "python3"
  },
  "language_info": {
   "codemirror_mode": {
    "name": "ipython",
    "version": 3
   },
   "file_extension": ".py",
   "mimetype": "text/x-python",
   "name": "python",
   "nbconvert_exporter": "python",
   "pygments_lexer": "ipython3",
   "version": "3.8.5"
  }
 },
 "nbformat": 4,
 "nbformat_minor": 4
}