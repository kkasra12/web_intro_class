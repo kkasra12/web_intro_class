{
 "cells": [
  {
   "cell_type": "markdown",
   "metadata": {},
   "source": [
    "# Constraints"
   ]
  },
  {
   "cell_type": "markdown",
   "metadata": {},
   "source": [
    "## Check\n",
    "```SQL\n",
    "\n",
    "ALTER TABLE table_name ADD CHECK (condition);\n",
    "ALTER TABLE table_name ADD CONSTRAINT constraint_name CHECK (condition);\n",
    "```"
   ]
  },
  {
   "cell_type": "markdown",
   "metadata": {},
   "source": [
    "## Foreign key\n",
    "\n",
    "```sql\n",
    "```"
   ]
  },
  {
   "cell_type": "markdown",
   "metadata": {},
   "source": [
    "# Triggers\n",
    "```sql\n",
    "CREATE TRIGGER trigger_name  trigger_time trigger_event  \n",
    "ON table_name FOR EACH ROW  \n",
    "BEGIN  \n",
    "    --variable declarations  \n",
    "    --trigger code  \n",
    "END;\n",
    "```\n",
    "The trigger body can access the column's values, which are affected by the DML statement. The `NEW` and `OLD` modifiers are used to distinguish the column values `BEFORE` and `AFTER` the execution of the DML statement."
   ]
  },
  {
   "cell_type": "markdown",
   "metadata": {},
   "source": [
    "# INDEX\n",
    "\n",
    "Indexes are used to retrieve data from the database more quickly than otherwise. The users cannot see the indexes, they are just used to speed up searches/queries.\n",
    "\n",
    "> Note: Updating a table with indexes takes more time than updating a table without (because the indexes also need an update). So, only create indexes on columns that will be frequently searched against."
   ]
  },
  {
   "cell_type": "code",
   "execution_count": null,
   "metadata": {},
   "outputs": [],
   "source": []
  }
 ],
 "metadata": {
  "kernelspec": {
   "display_name": "Python 3",
   "language": "python",
   "name": "python3"
  },
  "language_info": {
   "codemirror_mode": {
    "name": "ipython",
    "version": 3
   },
   "file_extension": ".py",
   "mimetype": "text/x-python",
   "name": "python",
   "nbconvert_exporter": "python",
   "pygments_lexer": "ipython3",
   "version": "3.8.5"
  }
 },
 "nbformat": 4,
 "nbformat_minor": 4
}
