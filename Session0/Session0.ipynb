{
 "cells": [
  {
   "cell_type": "markdown",
   "metadata": {},
   "source": [
    "# Session 0\n",
    "# OOP Basics\n"
   ]
  },
  {
   "cell_type": "code",
   "execution_count": 1,
   "metadata": {},
   "outputs": [
    {
     "name": "stdout",
     "output_type": "stream",
     "text": [
      "hello my name is kasra\n"
     ]
    }
   ],
   "source": [
    "human0 = {\"fname\":\"kasra\",\n",
    "          \"lname\":\"eskan\", \n",
    "         \"age\":23,\n",
    "         \"say_hello\":lambda self: print(f\"hello my name is {self['fname']}\")}\n",
    "\n",
    "human0['say_hello'](human0)"
   ]
  },
  {
   "cell_type": "code",
   "execution_count": 2,
   "metadata": {},
   "outputs": [
    {
     "name": "stdout",
     "output_type": "stream",
     "text": [
      "hello my name is kasry\n"
     ]
    }
   ],
   "source": [
    "class humans:\n",
    "    def __init__(self, fname: str, lname: str, age: int):\n",
    "        self.fname = fname\n",
    "        self.lname = lname\n",
    "        self.age = age\n",
    "    def say_hello(self):\n",
    "        print(f\"hello my name is {self.fname}\")\n",
    "        \n",
    "        \n",
    "human0 = humans(\"kasry\",\"eskandaraaa\",23)\n",
    "human0.say_hello()"
   ]
  },
  {
   "cell_type": "markdown",
   "metadata": {
    "pycharm": {
     "name": "#%% md\n"
    }
   },
   "source": [
    "## class attributes"
   ]
  },
  {
   "cell_type": "code",
   "execution_count": 4,
   "metadata": {
    "pycharm": {
     "name": "#%%\n"
    }
   },
   "outputs": [
    {
     "name": "stdout",
     "output_type": "stream",
     "text": [
      "bhnywxga\n",
      "zvntshqy\n",
      "wzqor\n"
     ]
    }
   ],
   "source": [
    "from random import choice, randint\n",
    "from string import ascii_lowercase\n",
    "def create_name(n=8):\n",
    "    return ''.join(choice(ascii_lowercase) for _ in range(n))\n",
    "\n",
    "print(create_name())\n",
    "print(create_name())\n",
    "print(create_name(5))"
   ]
  },
  {
   "cell_type": "code",
   "execution_count": 5,
   "metadata": {
    "pycharm": {
     "name": "#%%\n"
    }
   },
   "outputs": [
    {
     "name": "stdout",
     "output_type": "stream",
     "text": [
      "all_humanities[5].humans_population=100\n",
      "all_humanities[10].humans_population=100\n",
      "all_humanities[46].humans_population=100\n",
      "all_humanities[23].humans_population=100\n",
      "humans.humans_population=100\n"
     ]
    }
   ],
   "source": [
    "class humans:\n",
    "    humans_population = 0\n",
    "    def __init__(self, fname, lname, age):\n",
    "        self.fname = fname\n",
    "        self.lname = lname\n",
    "        self.age = age\n",
    "        humans.humans_population +=1\n",
    "    def say_hello(self):\n",
    "        print(f\"hello my name is {self.fname}\")\n",
    "\n",
    "all_humanities = []\n",
    "for _ in range(100):\n",
    "    all_humanities.append(humans(create_name(),create_name(),randint(10,30)))\n",
    "\n",
    "print(f\"{all_humanities[5].humans_population=}\")\n",
    "print(f\"{all_humanities[10].humans_population=}\")\n",
    "print(f\"{all_humanities[46].humans_population=}\")\n",
    "print(f\"{all_humanities[23].humans_population=}\")\n",
    "print(f\"{humans.humans_population=}\")"
   ]
  },
  {
   "cell_type": "markdown",
   "metadata": {
    "pycharm": {
     "name": "#%% md\n"
    }
   },
   "source": [
    "> recent approach used for counting population has a problem!!!\n",
    "\n",
    "what if someone died ?"
   ]
  },
  {
   "cell_type": "code",
   "execution_count": 6,
   "metadata": {
    "pycharm": {
     "name": "#%%\n"
    }
   },
   "outputs": [
    {
     "name": "stdout",
     "output_type": "stream",
     "text": [
      "100\n",
      "98\n"
     ]
    }
   ],
   "source": [
    "all_humanities.pop(0)\n",
    "del all_humanities[4]\n",
    "print(humans.humans_population)\n",
    "print(len(all_humanities))"
   ]
  },
  {
   "cell_type": "code",
   "execution_count": null,
   "metadata": {},
   "outputs": [],
   "source": []
  },
  {
   "cell_type": "markdown",
   "metadata": {
    "pycharm": {
     "name": "#%% md\n"
    }
   },
   "source": [
    "> **Note**: `del x` doesn’t directly call `x.__del__()` — the former decrements the\n",
    "> reference count for x by one, and the latter is only called when x’s reference\n",
    "> count reaches zero."
   ]
  },
  {
   "cell_type": "markdown",
   "metadata": {
    "pycharm": {
     "name": "#%% md\n"
    }
   },
   "source": [
    "## Dunders"
   ]
  },
  {
   "cell_type": "code",
   "execution_count": 13,
   "metadata": {},
   "outputs": [
    {
     "name": "stdout",
     "output_type": "stream",
     "text": [
      "3\n"
     ]
    }
   ],
   "source": [
    "print(0 or 6)"
   ]
  },
  {
   "cell_type": "code",
   "execution_count": 15,
   "metadata": {
    "pycharm": {
     "name": "#%%\n"
    }
   },
   "outputs": [],
   "source": [
    "class Vector:\n",
    "    def __init__(self,x,y):\n",
    "        self.x = x\n",
    "        self.y = y\n",
    "    def __str__(self):\n",
    "        return f\"(X:{self.x}, Y:{self.y})\"\n",
    "    def __repr__(self):\n",
    "        return f\"Vector(X:{self.x}, Y:{self.y})\"\n",
    "    def __abs__(self):\n",
    "        return (self.x**2+self.y**2)**0.5\n",
    "    def __bool__(self):\n",
    "        # return self.x or self.y\n",
    "        # this line is not correct\n",
    "        return self.x!=0 or self.y!=0\n",
    "    def __neg__(self):\n",
    "        return Vector(x=-self.x,y=-self.y)\n"
   ]
  },
  {
   "cell_type": "markdown",
   "metadata": {
    "pycharm": {
     "name": "#%% md\n"
    }
   },
   "source": [
    "**difference** between `__str__` and `__repr__`"
   ]
  },
  {
   "cell_type": "code",
   "execution_count": 18,
   "metadata": {
    "pycharm": {
     "name": "#%%\n"
    }
   },
   "outputs": [
    {
     "name": "stdout",
     "output_type": "stream",
     "text": [
      "(X:3, Y:4)\n",
      "[Vector(X:3, Y:4), Vector(X:0, Y:5)]\n"
     ]
    },
    {
     "data": {
      "text/plain": [
       "Vector(X:0, Y:5)"
      ]
     },
     "execution_count": 18,
     "metadata": {},
     "output_type": "execute_result"
    }
   ],
   "source": [
    "v1 = Vector(3,4)\n",
    "v2 = Vector(0,5)\n",
    "print(v1)\n",
    "print([v1,v2])\n",
    "v2"
   ]
  },
  {
   "cell_type": "code",
   "execution_count": 19,
   "metadata": {
    "pycharm": {
     "name": "#%%\n"
    }
   },
   "outputs": [
    {
     "name": "stdout",
     "output_type": "stream",
     "text": [
      "abs(v1)=5.0\n",
      "bool(v1)=True\n",
      "this vector is zero\n",
      "(X:-3, Y:-4)\n"
     ]
    }
   ],
   "source": [
    "print(f\"{abs(v1)=}\")\n",
    "print(f\"{bool(v1)=}\")\n",
    "zero = Vector(0,0)\n",
    "if zero:\n",
    "    print(\"this vector is not zero\")\n",
    "else:\n",
    "    print(\"this vector is zero\")\n",
    "print(-v1)"
   ]
  },
  {
   "cell_type": "markdown",
   "metadata": {
    "pycharm": {
     "name": "#%% md\n"
    }
   },
   "source": [
    "### comparison dunders"
   ]
  },
  {
   "cell_type": "code",
   "execution_count": null,
   "metadata": {
    "pycharm": {
     "name": "#%%\n"
    }
   },
   "outputs": [],
   "source": [
    "class Vector:\n",
    "    def __init__(self,x,y):\n",
    "        self.x = x\n",
    "        self.y = y\n",
    "    def __abs__(self):\n",
    "        return (self.x**2+self.y**2)**0.5\n",
    "    def __str__(self):\n",
    "        return f\"(X:{self.x}, Y:{self.y})\"\n",
    "    def __repr__(self):\n",
    "        return f\"Vector(X:{self.x}, Y:{self.y})\"\n",
    "    def __bool__(self):\n",
    "        return self.x or self.y\n",
    "    def __neg__(self):\n",
    "        return Vector(x=-self.x,y=-self.y)\n",
    "    def __lt__(self, other):\n",
    "        if not isinstance(other,Vector):\n",
    "            raise ValueError(f\"other must be Vector not {type(other)}\")\n",
    "        return abs(self)<abs(other)\n",
    "    def __eq__(self, other):\n",
    "        if not isinstance(other,Vector):\n",
    "            raise ValueError(f\"other must be Vector not {type(other)}\")\n",
    "        return abs(self)==abs(other)\n",
    "    def __gt__(self, other):\n",
    "        pass\n",
    "    def __le__(self, other):\n",
    "        pass\n",
    "    def __ne__(self, other):\n",
    "        pass\n",
    "    def __ge__(self, other):\n",
    "        pass"
   ]
  },
  {
   "cell_type": "markdown",
   "metadata": {
    "pycharm": {
     "name": "#%% md\n"
    }
   },
   "source": [
    "Oh, crap im bored of implementing all this methods"
   ]
  },
  {
   "cell_type": "code",
   "execution_count": 21,
   "metadata": {
    "pycharm": {
     "name": "#%%\n"
    }
   },
   "outputs": [
    {
     "name": "stdout",
     "output_type": "stream",
     "text": [
      "v1>v2=False\n"
     ]
    }
   ],
   "source": [
    "from functools import total_ordering\n",
    "@total_ordering\n",
    "class Vector:\n",
    "    def __init__(self,x,y):\n",
    "        self.x = x\n",
    "        self.y = y\n",
    "    def __abs__(self):\n",
    "        return (self.x**2+self.y**2)**0.5\n",
    "    def __str__(self):\n",
    "        return f\"(X:{self.x}, Y:{self.y})\"\n",
    "    def __repr__(self):\n",
    "        return f\"Vector(X:{self.x}, Y:{self.y})\"\n",
    "    def __bool__(self):\n",
    "        return self.x or self.y\n",
    "    def __neg__(self):\n",
    "        return Vector(x=-self.x,y=-self.y)\n",
    "    def __lt__(self, other):\n",
    "        if not isinstance(other,Vector):\n",
    "            raise ValueError(f\"other must be Vector not {type(other)}\")\n",
    "        return abs(self)<abs(other)\n",
    "    def __eq__(self, other):\n",
    "        if not isinstance(other,Vector):\n",
    "            raise ValueError(f\"other must be Vector not {type(other)}\")\n",
    "        return abs(self)==abs(other)\n",
    "\n",
    "v1 = Vector(3,4)\n",
    "v2 = Vector(5.5,0)\n",
    "print(f\"{v1>v2=}\")"
   ]
  },
  {
   "cell_type": "markdown",
   "metadata": {
    "pycharm": {
     "name": "#%% md\n"
    }
   },
   "source": [
    "### mathematics operators"
   ]
  },
  {
   "cell_type": "code",
   "execution_count": 29,
   "metadata": {
    "pycharm": {
     "name": "#%%\n"
    }
   },
   "outputs": [
    {
     "data": {
      "text/plain": [
       "Vector(X:3, Y:-1)"
      ]
     },
     "execution_count": 29,
     "metadata": {},
     "output_type": "execute_result"
    }
   ],
   "source": [
    "@total_ordering\n",
    "class Vector:\n",
    "    def __init__(self,x,y):\n",
    "        self.x = x\n",
    "        self.y = y\n",
    "    def __abs__(self):\n",
    "        return (self.x**2+self.y**2)**0.5\n",
    "    def __str__(self):\n",
    "        return f\"(X:{self.x}, Y:{self.y})\"\n",
    "    def __repr__(self):\n",
    "        return f\"Vector(X:{self.x}, Y:{self.y})\"\n",
    "    def __bool__(self):\n",
    "        return self.x or self.y\n",
    "    def __neg__(self):\n",
    "        return Vector(x=-self.x,y=-self.y)\n",
    "    def __lt__(self, other):\n",
    "        if not isinstance(other,Vector):\n",
    "            return NotImplemented\n",
    "        return abs(self)<abs(other)\n",
    "    def __eq__(self, other):\n",
    "        if not isinstance(other,Vector):\n",
    "            return NotImplemented\n",
    "        return abs(self)==abs(other)\n",
    "    def __add__(self, other):\n",
    "        if not isinstance(other,Vector):\n",
    "            return NotImplemented\n",
    "        return Vector(x=self.x+other.x,y=self.y+other.y)\n",
    "    def __sub__(self, other):\n",
    "        if not isinstance(other,Vector):\n",
    "            return NotImplemented\n",
    "        # do we really need this condition?\n",
    "        return self+-other\n",
    "    def __mul__(self, other):\n",
    "        if not isinstance(other,Vector):\n",
    "            return NotImplemented\n",
    "        return self.x*other.x + self.y*other.y\n",
    "v1 = Vector(3,4)\n",
    "v2 = Vector(0,5)\n",
    "v1-v2"
   ]
  },
  {
   "cell_type": "markdown",
   "metadata": {
    "pycharm": {
     "name": "#%% md\n"
    }
   },
   "source": [
    "[read here for more...](https://docs.python.org/3/reference/datamodel.html#emulating-numeric-types)"
   ]
  },
  {
   "cell_type": "markdown",
   "metadata": {
    "pycharm": {
     "name": "#%% md\n"
    }
   },
   "source": [
    "## property\n",
    "<img src=\"coords.jpg\">"
   ]
  },
  {
   "cell_type": "code",
   "execution_count": 30,
   "metadata": {
    "pycharm": {
     "name": "#%%\n"
    }
   },
   "outputs": [
    {
     "name": "stdout",
     "output_type": "stream",
     "text": [
      "v1.alpha=45.0\n",
      "v1.r=5.656854249492381\n"
     ]
    }
   ],
   "source": [
    "from math import atan, pi\n",
    "@total_ordering\n",
    "class Vector:\n",
    "    def __init__(self,x,y):\n",
    "        self.x = x\n",
    "        self.y = y\n",
    "    def __abs__(self):\n",
    "        return (self.x**2+self.y**2)**0.5\n",
    "    def __str__(self):\n",
    "        return f\"(X:{self.x}, Y:{self.y})\"\n",
    "    def __repr__(self):\n",
    "        return f\"Vector(X:{self.x}, Y:{self.y})\"\n",
    "    def __bool__(self):\n",
    "        return self.x or self.y\n",
    "    def __neg__(self):\n",
    "        return Vector(x=-self.x,y=-self.y)\n",
    "    def __lt__(self, other):\n",
    "        if not isinstance(other,Vector):\n",
    "            raise ValueError(f\"other must be Vector not {type(other)}\")\n",
    "        return abs(self)<abs(other)\n",
    "    def __eq__(self, other):\n",
    "        if not isinstance(other,Vector):\n",
    "            raise ValueError(f\"other must be Vector not {type(other)}\")\n",
    "        return abs(self)==abs(other)\n",
    "    @property\n",
    "    def alpha(self):\n",
    "        return atan(self.y/self.x)*180/pi\n",
    "    @property\n",
    "    def r(self):\n",
    "        # return abs(self)\n",
    "        return (self.x**2+self.y**2)**0.5\n",
    "\n",
    "v1 = Vector(4,4)\n",
    "print(f\"{v1.alpha=}\")\n",
    "print(f\"{v1.r=}\")"
   ]
  },
  {
   "cell_type": "markdown",
   "metadata": {
    "pycharm": {
     "name": "#%% md\n"
    }
   },
   "source": [
    "> **Question:** How to force user not to change `x` and `y`?"
   ]
  },
  {
   "cell_type": "code",
   "execution_count": 36,
   "metadata": {},
   "outputs": [
    {
     "name": "stdout",
     "output_type": "stream",
     "text": [
      "6\n"
     ]
    },
    {
     "ename": "AttributeError",
     "evalue": "can't set attribute",
     "output_type": "error",
     "traceback": [
      "\u001B[0;31m---------------------------------------------------------------------------\u001B[0m",
      "\u001B[0;31mAttributeError\u001B[0m                            Traceback (most recent call last)",
      "\u001B[0;32m<ipython-input-36-8033f3e0b578>\u001B[0m in \u001B[0;36m<module>\u001B[0;34m\u001B[0m\n\u001B[1;32m     40\u001B[0m \u001B[0mv1\u001B[0m \u001B[0;34m=\u001B[0m \u001B[0mVector\u001B[0m\u001B[0;34m(\u001B[0m\u001B[0;36m6\u001B[0m\u001B[0;34m,\u001B[0m\u001B[0;36m8\u001B[0m\u001B[0;34m)\u001B[0m\u001B[0;34m\u001B[0m\u001B[0;34m\u001B[0m\u001B[0m\n\u001B[1;32m     41\u001B[0m \u001B[0mprint\u001B[0m\u001B[0;34m(\u001B[0m\u001B[0mv1\u001B[0m\u001B[0;34m.\u001B[0m\u001B[0mx\u001B[0m\u001B[0;34m)\u001B[0m\u001B[0;34m\u001B[0m\u001B[0;34m\u001B[0m\u001B[0m\n\u001B[0;32m---> 42\u001B[0;31m \u001B[0mv1\u001B[0m\u001B[0;34m.\u001B[0m\u001B[0mx\u001B[0m \u001B[0;34m=\u001B[0m \u001B[0;36m5\u001B[0m\u001B[0;34m\u001B[0m\u001B[0;34m\u001B[0m\u001B[0m\n\u001B[0m\u001B[1;32m     43\u001B[0m \u001B[0mprint\u001B[0m\u001B[0;34m(\u001B[0m\u001B[0mv1\u001B[0m\u001B[0;34m.\u001B[0m\u001B[0mx\u001B[0m\u001B[0;34m)\u001B[0m\u001B[0;34m\u001B[0m\u001B[0;34m\u001B[0m\u001B[0m\n",
      "\u001B[0;31mAttributeError\u001B[0m: can't set attribute"
     ]
    }
   ],
   "source": [
    "@total_ordering\n",
    "class Vector:\n",
    "    def __init__(self,x,y):\n",
    "        self.__x = x\n",
    "        self.__y = y\n",
    "    def __abs__(self):\n",
    "        return (self.x**2+self.y**2)**0.5\n",
    "    def __str__(self):\n",
    "        return f\"(X:{self.x}, Y:{self.y})\"\n",
    "    def __repr__(self):\n",
    "        return f\"Vector(X:{self.x}, Y:{self.y})\"\n",
    "    def __bool__(self):\n",
    "        return sel.x or self.y\n",
    "    def __neg__(self):\n",
    "        return Vector(x=-self.x,y=-self.y)\n",
    "    def __lt__(self, other):\n",
    "        if not isinstance(other,Vector):\n",
    "            raise ValueError(f\"other must be Vector not {type(other)}\")\n",
    "        return abs(self)<abs(other)\n",
    "    def __eq__(self, other):\n",
    "        if not isinstance(other,Vector):\n",
    "            raise ValueError(f\"other must be Vector not {type(other)}\")\n",
    "        return abs(self)==abs(other)\n",
    "    @property\n",
    "    def alpha(self):\n",
    "        return atan(self.y/self.x)*180/pi\n",
    "    @property\n",
    "    def r(self):\n",
    "        # return abs(self)\n",
    "        return (self.x**2+self.y**2)**0.5\n",
    "    \n",
    "    @property\n",
    "    def x(self):\n",
    "        return self.__x\n",
    "    \n",
    "    @property\n",
    "    def y(self):\n",
    "        return self.__y\n",
    "    \n",
    "v1 = Vector(6,8)\n",
    "print(v1.x)\n",
    "v1.x = 5\n",
    "print(v1.x)"
   ]
  },
  {
   "cell_type": "code",
   "execution_count": 37,
   "metadata": {},
   "outputs": [
    {
     "data": {
      "text/plain": [
       "['_Vector__x',\n",
       " '_Vector__y',\n",
       " '__abs__',\n",
       " '__bool__',\n",
       " '__class__',\n",
       " '__delattr__',\n",
       " '__dict__',\n",
       " '__dir__',\n",
       " '__doc__',\n",
       " '__eq__',\n",
       " '__format__',\n",
       " '__ge__',\n",
       " '__getattribute__',\n",
       " '__gt__',\n",
       " '__hash__',\n",
       " '__init__',\n",
       " '__init_subclass__',\n",
       " '__le__',\n",
       " '__lt__',\n",
       " '__module__',\n",
       " '__ne__',\n",
       " '__neg__',\n",
       " '__new__',\n",
       " '__reduce__',\n",
       " '__reduce_ex__',\n",
       " '__repr__',\n",
       " '__setattr__',\n",
       " '__sizeof__',\n",
       " '__str__',\n",
       " '__subclasshook__',\n",
       " '__weakref__',\n",
       " 'alpha',\n",
       " 'r',\n",
       " 'x',\n",
       " 'y']"
      ]
     },
     "execution_count": 37,
     "metadata": {},
     "output_type": "execute_result"
    }
   ],
   "source": [
    "dir(v1)"
   ]
  },
  {
   "cell_type": "code",
   "execution_count": 51,
   "metadata": {},
   "outputs": [
    {
     "name": "stdout",
     "output_type": "stream",
     "text": [
      "{Vector(X:4, Y:5), 1, 2}\n"
     ]
    }
   ],
   "source": [
    "@total_ordering\n",
    "class Vector:\n",
    "    def __init__(self,x,y):\n",
    "        self.__x = x\n",
    "        self.__y = y\n",
    "    def __abs__(self):\n",
    "        return (self.x**2+self.y**2)**0.5\n",
    "    def __str__(self):\n",
    "        return f\"(X:{self.x}, Y:{self.y})\"\n",
    "    def __repr__(self):\n",
    "        return f\"Vector(X:{self.x}, Y:{self.y})\"\n",
    "    def __bool__(self):\n",
    "        return self.x or self.y\n",
    "    def __neg__(self):\n",
    "        return Vector(x=-self.x,y=-self.y)\n",
    "    def __lt__(self, other):\n",
    "        if not isinstance(other,Vector):\n",
    "            raise ValueError(f\"other must be Vector not {type(other)}\")\n",
    "        return abs(self)<abs(other)\n",
    "    def __eq__(self, other):\n",
    "        if not isinstance(other,Vector):\n",
    "            raise ValueError(f\"other must be Vector not {type(other)}\")\n",
    "        return abs(self)==abs(other)\n",
    "    @property\n",
    "    def alpha(self):\n",
    "        return atan(self.y/self.x)*180/pi\n",
    "    @property\n",
    "    def r(self):\n",
    "        # return abs(self)\n",
    "        return (self.x**2+self.y**2)**0.5\n",
    "    \n",
    "    @property\n",
    "    def x(self):\n",
    "        return self.__x\n",
    "    \n",
    "    @property\n",
    "    def y(self):\n",
    "        return self.__y\n",
    "    \n",
    "    def __hash__(self):\n",
    "        return hash((self.x,self.y))\n",
    "    \n",
    "    \n",
    "    \n",
    "v1 = Vector(4,5)\n",
    "mySet = {1,2,v1}\n",
    "print(mySet)"
   ]
  },
  {
   "cell_type": "markdown",
   "metadata": {
    "pycharm": {
     "name": "#%% md\n"
    }
   },
   "source": [
    "# Questions:\n",
    "1. Implement `Polar_vector` class, in which the `alpha` value is always\n",
    "in (-180,180] range(or respectivly in [0,360) range)\n",
    "1. extend `Vector` class inorder to save multidimentional values."
   ]
  },
  {
   "cell_type": "code",
   "execution_count": null,
   "metadata": {},
   "outputs": [],
   "source": [
    "class Ploar_vector:\n",
    "    def __init__(self,r,theta):\n",
    "        self.__theta = theta\n",
    "        self.__r = r"
   ]
  }
 ],
 "metadata": {
  "kernelspec": {
   "display_name": "Python 3",
   "language": "python",
   "name": "python3"
  },
  "language_info": {
   "codemirror_mode": {
    "name": "ipython",
    "version": 3
   },
   "file_extension": ".py",
   "mimetype": "text/x-python",
   "name": "python",
   "nbconvert_exporter": "python",
   "pygments_lexer": "ipython3",
   "version": "3.8.5"
  }
 },
 "nbformat": 4,
 "nbformat_minor": 4
}