{
 "cells": [
  {
   "cell_type": "markdown",
   "metadata": {},
   "source": [
    "# Session 1\n"
   ]
  },
  {
   "cell_type": "markdown",
   "metadata": {},
   "source": [
    "## `__del__`"
   ]
  },
  {
   "cell_type": "code",
   "execution_count": 1,
   "metadata": {},
   "outputs": [
    {
     "name": "stdout",
     "output_type": "stream",
     "text": [
      "humans.humans_population=100\n",
      "98\n",
      "98\n"
     ]
    }
   ],
   "source": [
    "from random import choice, randint\n",
    "from string import ascii_lowercase\n",
    "def create_name(n=8):\n",
    "    return ''.join(choice(ascii_lowercase) for _ in range(n))\n",
    "\n",
    "class humans:\n",
    "    humans_population = 0\n",
    "    def __init__(self, fname, lname, age):\n",
    "        self.fname = fname\n",
    "        self.lname = lname\n",
    "        self.age = age\n",
    "        humans.humans_population +=1\n",
    "    def say_hello(self):\n",
    "        print(f\"hello my name is {self.fname}\")\n",
    "    \n",
    "    def __del__(self):\n",
    "        humans.humans_population -= 1\n",
    "\n",
    "all_humanities = []\n",
    "for _ in range(100):\n",
    "    all_humanities.append(humans(create_name(),create_name(),randint(10,30)))\n",
    "print(f\"{humans.humans_population=}\")\n",
    "\n",
    "all_humanities.pop(0)\n",
    "del all_humanities[4]\n",
    "print(humans.humans_population)\n",
    "print(len(all_humanities))\n"
   ]
  },
  {
   "cell_type": "markdown",
   "metadata": {},
   "source": [
    "> **Note**: `del x` doesn’t directly call `x.__del__()` — the former decrements the\n",
    "> reference count for x by one, and the latter is only called when x’s reference\n",
    "> count reaches zero."
   ]
  },
  {
   "cell_type": "code",
   "execution_count": 5,
   "metadata": {
    "pycharm": {
     "name": "#%%\n"
    }
   },
   "outputs": [
    {
     "name": "stdout",
     "output_type": "stream",
     "text": [
      "wsyyeidx\n",
      "kasra\n",
      "99\n",
      "98\n"
     ]
    }
   ],
   "source": [
    "all_humanities = []\n",
    "for _ in range(100):\n",
    "    all_humanities.append(humans(create_name(),create_name(),randint(10,30)))\n",
    "\n",
    "tmp = all_humanities[0]\n",
    "print(tmp.fname)\n",
    "tmp.fname = \"kasra\"\n",
    "print(all_humanities[0].fname)\n",
    "\n",
    "\n",
    "all_humanities.pop(0)\n",
    "del all_humanities[4]\n",
    "print(humans.humans_population)\n",
    "print(len(all_humanities))"
   ]
  },
  {
   "cell_type": "code",
   "execution_count": 3,
   "metadata": {},
   "outputs": [
    {
     "data": {
      "text/plain": [
       "98"
      ]
     },
     "execution_count": 3,
     "metadata": {},
     "output_type": "execute_result"
    }
   ],
   "source": [
    "del tmp\n",
    "humans.humans_population"
   ]
  },
  {
   "cell_type": "markdown",
   "metadata": {
    "pycharm": {
     "name": "#%% md\n"
    }
   },
   "source": [
    "## Static Method\n",
    "$$\n",
    "\\sin{(x)}=\\sum_{n=0}^\\infty\\frac{{(-1)}^n}{{(2n+1)}!}x^{2n+1}=x-\\frac{x^3}{3!}+\\frac{x^5}{5!}-\\frac{x^7}{7!}+\\cdots\n",
    "$$"
   ]
  },
  {
   "cell_type": "code",
   "execution_count": 17,
   "metadata": {
    "pycharm": {
     "name": "#%%\n"
    }
   },
   "outputs": [
    {
     "name": "stdout",
     "output_type": "stream",
     "text": [
      "0.5000000000000299\n"
     ]
    }
   ],
   "source": [
    "class my_Math:\n",
    "    def sqrt(self,val):\n",
    "        if val<0:\n",
    "            raise ValueError(\"can not calculate values less than zero\")\n",
    "        return val ** 0.5\n",
    "\n",
    "    def sin(self,x,N=25,is_radian = False):\n",
    "        if not is_radian:\n",
    "            x*=3.14159265359/180\n",
    "        k = 1\n",
    "        X = x\n",
    "        fact = 1\n",
    "        s = 0\n",
    "        for i in range(N):\n",
    "            s += X*k/fact\n",
    "            X *= x*x\n",
    "            k *= -1\n",
    "            fact *= (2*i+2)*(2*i+3)\n",
    "        return s\n",
    "my_math = my_Math()\n",
    "print(my_math.sin(30))"
   ]
  },
  {
   "cell_type": "code",
   "execution_count": 18,
   "metadata": {
    "pycharm": {
     "name": "#%%\n"
    }
   },
   "outputs": [
    {
     "ename": "TypeError",
     "evalue": "sin() missing 1 required positional argument: 'x'",
     "output_type": "error",
     "traceback": [
      "\u001B[0;31m---------------------------------------------------------------------------\u001B[0m",
      "\u001B[0;31mTypeError\u001B[0m                                 Traceback (most recent call last)",
      "\u001B[0;32m<ipython-input-18-96f127a7fc97>\u001B[0m in \u001B[0;36m<module>\u001B[0;34m\u001B[0m\n\u001B[0;32m----> 1\u001B[0;31m \u001B[0mmy_Math\u001B[0m\u001B[0;34m.\u001B[0m\u001B[0msin\u001B[0m\u001B[0;34m(\u001B[0m\u001B[0;36m45\u001B[0m\u001B[0;34m)\u001B[0m\u001B[0;34m\u001B[0m\u001B[0;34m\u001B[0m\u001B[0m\n\u001B[0m",
      "\u001B[0;31mTypeError\u001B[0m: sin() missing 1 required positional argument: 'x'"
     ]
    }
   ],
   "source": [
    "my_Math.sin(45)"
   ]
  },
  {
   "cell_type": "code",
   "execution_count": 21,
   "metadata": {
    "pycharm": {
     "name": "#%%\n"
    }
   },
   "outputs": [
    {
     "name": "stdout",
     "output_type": "stream",
     "text": [
      "0.5000000000000299\n"
     ]
    }
   ],
   "source": [
    "class my_Math:\n",
    "    @staticmethod\n",
    "    def sqrt(val):\n",
    "        if val<0:\n",
    "            raise ValueError(\"can not calculate values less than zero\")\n",
    "        return val ** 0.5\n",
    "\n",
    "    @staticmethod\n",
    "    def sin(x,N=25,is_radian = False):\n",
    "        if not is_radian:\n",
    "            x*=3.14159265359/180\n",
    "        k = 1\n",
    "        X = x\n",
    "        fact = 1\n",
    "        s = 0\n",
    "        for i in range(N):\n",
    "            s += X*k/fact\n",
    "            X *= x*x\n",
    "            k *= -1\n",
    "            fact *= (2*i+2)*(2*i+3)\n",
    "        return s\n",
    "print(my_Math.sin(30))"
   ]
  },
  {
   "cell_type": "code",
   "execution_count": 22,
   "metadata": {
    "pycharm": {
     "name": "#%%\n"
    }
   },
   "outputs": [
    {
     "name": "stdout",
     "output_type": "stream",
     "text": [
      "0.5000000000000299\n"
     ]
    }
   ],
   "source": [
    "my_math = my_Math()\n",
    "print(my_math.sin(30))"
   ]
  },
  {
   "cell_type": "markdown",
   "metadata": {
    "pycharm": {
     "name": "#%%md\n"
    }
   },
   "source": [
    "## Iteration Over Class Instances"
   ]
  },
  {
   "cell_type": "code",
   "execution_count": 4,
   "metadata": {
    "pycharm": {
     "name": "#%%\n"
    }
   },
   "outputs": [
    {
     "name": "stdout",
     "output_type": "stream",
     "text": [
      "2\n",
      "3\n",
      "4\n",
      "6\n",
      "1\n",
      "4\n",
      "7\n"
     ]
    }
   ],
   "source": [
    "class Vector:\n",
    "    def __init__(self, *x):\n",
    "        self.x = x\n",
    "\n",
    "    def __abs__(self):\n",
    "        return sum(i ** 2 for i in self.x) ** 0.5\n",
    "\n",
    "    def __str__(self):\n",
    "        dimensions = []\n",
    "        for index, value in enumerate(self.x):\n",
    "            dimensions.append(f\"X{index}:{value}\")\n",
    "        return f\"{len(self.x)}D-Vector({', '.join(dimensions)})\"\n",
    "\n",
    "    def __neg__(self):\n",
    "        return Vector(*[-i for i in self.x])\n",
    "\n",
    "v1 = Vector(2, 3, 4, 6, 1, 4, 7)\n",
    "for i in v1.x:\n",
    "    print(i)"
   ]
  },
  {
   "cell_type": "code",
   "execution_count": 8,
   "metadata": {
    "pycharm": {
     "name": "#%%\n"
    }
   },
   "outputs": [
    {
     "name": "stdout",
     "output_type": "stream",
     "text": [
      "2\n",
      "3\n",
      "4\n",
      "6\n",
      "1\n",
      "4\n",
      "7\n",
      "[2, 3, 4, 6, 1, 4, 7]\n"
     ]
    }
   ],
   "source": [
    "from typing import List\n",
    "class Vector:\n",
    "    x: List[int]\n",
    "    def __init__(self, *x):\n",
    "        self.x = list(x)\n",
    "\n",
    "    def __abs__(self):\n",
    "        return sum(i ** 2 for i in self.x) ** 0.5\n",
    "\n",
    "    def __str__(self):\n",
    "        dimensions = []\n",
    "        for index, value in enumerate(self.x):\n",
    "            dimensions.append(f\"X{index}:{value}\")\n",
    "        return f\"{len(self.x)}D-Vector({', '.join(dimensions)})\"\n",
    "\n",
    "    def __neg__(self):\n",
    "        return Vector(*[-i for i in self.x])\n",
    "\n",
    "    def __iter__(self):\n",
    "        self.__iterative_x = self.x.copy()\n",
    "        return self\n",
    "\n",
    "    def __next__(self):\n",
    "        if self.__iterative_x:\n",
    "            return self.__iterative_x.pop(0)\n",
    "        raise StopIteration\n",
    "\n",
    "v1 = Vector(2, 3, 4, 6, 1, 4, 7)\n",
    "for i in v1:\n",
    "    print(i)\n",
    "\n",
    "print(v1.x)"
   ]
  },
  {
   "cell_type": "markdown",
   "metadata": {
    "pycharm": {
     "name": "#%% md\n"
    }
   },
   "source": [
    "> Is recent code efficient?(NO,why?)"
   ]
  },
  {
   "cell_type": "markdown",
   "metadata": {
    "pycharm": {
     "name": "#%% md\n"
    }
   },
   "source": [
    "### Linked List\n",
    "![linked list](Singly-linked-list.png)"
   ]
  },
  {
   "cell_type": "code",
   "execution_count": 10,
   "metadata": {
    "pycharm": {
     "name": "#%%\n"
    }
   },
   "outputs": [
    {
     "name": "stdout",
     "output_type": "stream",
     "text": [
      "Node(data=5)\n",
      "Node(data=4)\n",
      "Node(data=6)\n",
      "Node(data=10)\n",
      "Node(data=5) --> Node(data=4) --> Node(data=6) --> Node(data=10)\n",
      "Node(data=5) --> Node(data=12) --> Node(data=4) --> Node(data=6) --> Node(data=10)\n",
      "Node(data=5) --> Node(data=12) --> Node(data=6) --> Node(data=10)\n"
     ]
    }
   ],
   "source": [
    "class Node:\n",
    "    def __init__(self,data,nextNode=None):\n",
    "        self.data = data\n",
    "        self.next = nextNode\n",
    "    def __str__(self):\n",
    "        return f\"Node(data={self.data})\"\n",
    "    def __repr__(self):\n",
    "        return str(self)\n",
    "\n",
    "class LinkedList:\n",
    "    def __init__(self,head=None):\n",
    "        self.head = head\n",
    "\n",
    "    def __iter__(self):\n",
    "        self.__lastNode = self.head\n",
    "        return self\n",
    "\n",
    "    def __next__(self):\n",
    "        if self.__lastNode is None:\n",
    "            raise StopIteration\n",
    "        t = self.__lastNode\n",
    "        self.__lastNode = self.__lastNode.next\n",
    "        return t\n",
    "\n",
    "    def __str__(self):\n",
    "        return \" --> \".join([str(i) for i in self])\n",
    "\n",
    "    def __repr__(self):\n",
    "        return str(self)\n",
    "\n",
    "    def lastNode(self):\n",
    "        if self.head is not None:\n",
    "            for i in self:\n",
    "                pass\n",
    "            return i\n",
    "\n",
    "    def append(self,newNode):\n",
    "        if self.head:\n",
    "            self.lastNode().next = newNode\n",
    "        else:\n",
    "            self.head = newNode\n",
    "\n",
    "    def insert(self, newNode, index):\n",
    "        for index_,node in enumerate(self):\n",
    "            if index_ == index:\n",
    "                newNode.next = node.next\n",
    "                node.next = newNode\n",
    "                break\n",
    "\n",
    "    def delete(self, index):\n",
    "        for index_,node in enumerate(self):\n",
    "            if index_ == index-1:\n",
    "                node.next = node.next.next\n",
    "                break\n",
    "\n",
    "mylst = LinkedList()\n",
    "mylst.append(Node(5))\n",
    "mylst.append(Node(4))\n",
    "mylst.append(Node(6))\n",
    "mylst.append(Node(10))\n",
    "for i in mylst:\n",
    "    print(i)\n",
    "print(mylst)\n",
    "mylst.insert(Node(12),0)\n",
    "print(mylst)\n",
    "mylst.delete(2)\n",
    "print(mylst)"
   ]
  },
  {
   "cell_type": "markdown",
   "metadata": {
    "pycharm": {
     "name": "#%% md\n"
    }
   },
   "source": [
    "## Inheritance\n",
    "Assume we are developing a freelancing website in which, we have two different\n",
    "users:\n",
    "- freelancers\n",
    "- customers\n",
    "\n",
    "both of them have some same features like:\n",
    "- First name and last name\n",
    "- Username(aka email address)\n",
    "- Password(must be encrypted)\n",
    "- ID number"
   ]
  },
  {
   "cell_type": "code",
   "execution_count": 10,
   "metadata": {
    "pycharm": {
     "name": "#%%\n"
    }
   },
   "outputs": [],
   "source": [
    "class User:\n",
    "    def __init__(self,fname,lanme,passwd,id_number):\n",
    "        self.fname = fname\n",
    "        self.lname = lanme\n",
    "        self.id_number = id_number\n",
    "        self.passwd = ''\n",
    "        self.change_password(passwd)\n",
    "\n",
    "    def change_password(self,new_password):\n",
    "        self.passwd = new_password\n",
    "\n",
    "class Freelancer(User):\n",
    "    def __init__(self,fname,lanme,passwd,id_number,skills,resume):\n",
    "        User.__init__(self,fname,lanme,passwd,id_number)\n",
    "        self.skills = skills\n",
    "        self.resume = resume\n",
    "        self.accepted_project = []\n",
    "\n",
    "    def is_eligible_for_project(self,new_project):\n",
    "        '''\n",
    "        here we should check many conditions...\n",
    "        :param new_project: this is new project's detail\n",
    "        :return: returns wether this freelancer can accept this project or not\n",
    "        '''\n",
    "        return True\n",
    "\n",
    "class Customer(User):\n",
    "    def __init__(self, fname, lanme, passwd, id_number, budget_range, project_size):\n",
    "        super().__init__(fname, lanme, passwd, id_number)\n",
    "        self.budget_range = budget_range\n",
    "        self.project_size = project_size\n",
    "\n",
    "    def find_best_freelancer(self,project):\n",
    "        '''\n",
    "        no matters what is your project, return the best programmer\n",
    "        :param project:\n",
    "        :return:\n",
    "        '''\n",
    "        return \"kasra\"\n"
   ]
  },
  {
   "cell_type": "code",
   "execution_count": 11,
   "metadata": {
    "pycharm": {
     "name": "#%%\n"
    }
   },
   "outputs": [
    {
     "data": {
      "text/plain": [
       "{'fname': 'kasra',\n",
       " 'lname': 'eskan',\n",
       " 'id_number': 'myidnumber',\n",
       " 'passwd': '123456',\n",
       " 'skills': ['turn on or off the computer', 'writing CD-ROM'],\n",
       " 'resume': 'https://kasra-resume.org',\n",
       " 'accepted_project': []}"
      ]
     },
     "execution_count": 11,
     "metadata": {},
     "output_type": "execute_result"
    }
   ],
   "source": [
    "kasra = Freelancer(fname=\"kasra\",\n",
    "                   lanme=\"eskan\",\n",
    "                   passwd=\"123456\",\n",
    "                   id_number=\"myidnumber\",\n",
    "                   skills = [\"turn on or off the computer\",\n",
    "                             \"writing CD-ROM\"],\n",
    "                   resume=\"https://kasra-resume.org\")\n",
    "kasra.__dict__"
   ]
  },
  {
   "cell_type": "code",
   "execution_count": 12,
   "metadata": {
    "pycharm": {
     "name": "#%%\n"
    }
   },
   "outputs": [
    {
     "data": {
      "text/plain": [
       "{'fname': 'elon',\n",
       " 'lname': 'musk',\n",
       " 'id_number': 'ELON_id',\n",
       " 'passwd': '342516',\n",
       " 'budget_range': '1000000BC',\n",
       " 'project_size': 'enormous'}"
      ]
     },
     "execution_count": 12,
     "metadata": {},
     "output_type": "execute_result"
    }
   ],
   "source": [
    "elon = Customer(fname=\"elon\",\n",
    "                lanme=\"musk\",\n",
    "                passwd=\"342516\",\n",
    "                id_number=\"ELON_id\",\n",
    "                budget_range=\"1000000BC\",\n",
    "                project_size=\"enormous\")\n",
    "elon.__dict__"
   ]
  },
  {
   "cell_type": "code",
   "execution_count": 13,
   "metadata": {},
   "outputs": [
    {
     "data": {
      "text/plain": [
       "['__class__',\n",
       " '__delattr__',\n",
       " '__dict__',\n",
       " '__dir__',\n",
       " '__doc__',\n",
       " '__eq__',\n",
       " '__format__',\n",
       " '__ge__',\n",
       " '__getattribute__',\n",
       " '__gt__',\n",
       " '__hash__',\n",
       " '__init__',\n",
       " '__init_subclass__',\n",
       " '__le__',\n",
       " '__lt__',\n",
       " '__module__',\n",
       " '__ne__',\n",
       " '__new__',\n",
       " '__reduce__',\n",
       " '__reduce_ex__',\n",
       " '__repr__',\n",
       " '__setattr__',\n",
       " '__sizeof__',\n",
       " '__str__',\n",
       " '__subclasshook__',\n",
       " '__weakref__',\n",
       " 'accepted_project',\n",
       " 'change_password',\n",
       " 'fname',\n",
       " 'id_number',\n",
       " 'is_eligible_for_project',\n",
       " 'lname',\n",
       " 'passwd',\n",
       " 'resume',\n",
       " 'skills']"
      ]
     },
     "execution_count": 13,
     "metadata": {},
     "output_type": "execute_result"
    }
   ],
   "source": [
    "dir(kasra)"
   ]
  },
  {
   "cell_type": "code",
   "execution_count": 14,
   "metadata": {},
   "outputs": [
    {
     "data": {
      "text/plain": [
       "['__class__',\n",
       " '__delattr__',\n",
       " '__dict__',\n",
       " '__dir__',\n",
       " '__doc__',\n",
       " '__eq__',\n",
       " '__format__',\n",
       " '__ge__',\n",
       " '__getattribute__',\n",
       " '__gt__',\n",
       " '__hash__',\n",
       " '__init__',\n",
       " '__init_subclass__',\n",
       " '__le__',\n",
       " '__lt__',\n",
       " '__module__',\n",
       " '__ne__',\n",
       " '__new__',\n",
       " '__reduce__',\n",
       " '__reduce_ex__',\n",
       " '__repr__',\n",
       " '__setattr__',\n",
       " '__sizeof__',\n",
       " '__str__',\n",
       " '__subclasshook__',\n",
       " '__weakref__',\n",
       " 'budget_range',\n",
       " 'change_password',\n",
       " 'find_best_freelancer',\n",
       " 'fname',\n",
       " 'id_number',\n",
       " 'lname',\n",
       " 'passwd',\n",
       " 'project_size']"
      ]
     },
     "execution_count": 14,
     "metadata": {},
     "output_type": "execute_result"
    }
   ],
   "source": [
    "dir(elon)"
   ]
  },
  {
   "cell_type": "code",
   "execution_count": 31,
   "metadata": {
    "pycharm": {
     "name": "#%%\n"
    }
   },
   "outputs": [
    {
     "name": "stdout",
     "output_type": "stream",
     "text": [
      "change_password\n",
      "is_eligible_for_project\n"
     ]
    }
   ],
   "source": [
    "for i in dir(kasra):\n",
    "    if not i.startswith(\"_\") and callable(kasra.__getattribute__(i)):\n",
    "        print(i)"
   ]
  },
  {
   "cell_type": "code",
   "execution_count": 32,
   "metadata": {
    "pycharm": {
     "name": "#%%\n"
    }
   },
   "outputs": [
    {
     "data": {
      "text/plain": [
       "['change_password', 'find_best_freelancer']"
      ]
     },
     "execution_count": 32,
     "metadata": {},
     "output_type": "execute_result"
    }
   ],
   "source": [
    "[i for i in dir(elon) if not i.startswith(\"_\") and callable(elon.__getattribute__(i))]"
   ]
  },
  {
   "cell_type": "code",
   "execution_count": 21,
   "metadata": {},
   "outputs": [
    {
     "name": "stdout",
     "output_type": "stream",
     "text": [
      "Help on method is_eligible_for_project in module __main__:\n",
      "\n",
      "is_eligible_for_project(new_project) method of __main__.Freelancer instance\n",
      "    here we should check many conditions...\n",
      "    :param new_project: this is new project's detail\n",
      "    :return: returns wether this freelancer can accept this project or not\n",
      "\n"
     ]
    }
   ],
   "source": [
    "help(kasra.is_eligible_for_project)"
   ]
  },
  {
   "cell_type": "code",
   "execution_count": null,
   "metadata": {},
   "outputs": [],
   "source": []
  }
 ],
 "metadata": {
  "kernelspec": {
   "display_name": "Python 3",
   "language": "python",
   "name": "python3"
  },
  "language_info": {
   "codemirror_mode": {
    "name": "ipython",
    "version": 3
   },
   "file_extension": ".py",
   "mimetype": "text/x-python",
   "name": "python",
   "nbconvert_exporter": "python",
   "pygments_lexer": "ipython3",
   "version": "3.8.5"
  }
 },
 "nbformat": 4,
 "nbformat_minor": 4
}