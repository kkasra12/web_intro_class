{
 "cells": [
  {
   "cell_type": "markdown",
   "metadata": {},
   "source": [
    "# Select\n",
    "\n",
    "\n",
    "```sql\n",
    "SELECT * FROM table_name;\n",
    "SELECT column_name1,column_name2,... FROM table_name;\n",
    "SELECT * FROM table_name WHERE condition;\n",
    "SELECT column_name1,column_name2,... FROM table_name WHERE condition;\n",
    "```"
   ]
  },
  {
   "cell_type": "markdown",
   "metadata": {},
   "source": [
    "## Examples\n",
    "\n",
    "find the name and student id:\n",
    "```sql\n",
    "select student_id,name from students;\n",
    "```\n",
    "\n",
    "find the top ranked students:\n",
    "```sql\n",
    "select * from students where average>=17;\n",
    "```\n",
    "\n",
    "find the top ranked students living in Tehran:\n",
    "```sql\n",
    "select * from student where average>=17 and city='Tehran';\n",
    "```\n",
    "\n",
    "find top ranked students from colleges 10 and 5:\n",
    "```sql\n",
    "select * from student where [fill here]\n",
    "```"
   ]
  },
  {
   "cell_type": "markdown",
   "metadata": {},
   "source": [
    "## redundancy\n",
    "\n",
    "what if we want names of cities?\n",
    "```sql\n",
    "select city from students\n",
    "```\n",
    "_what is the problem?_\n",
    "\n",
    "to solve the problem use keyword `distinct`\n",
    "\n",
    "```sql\n",
    "select distinct city from students\n",
    "```"
   ]
  },
  {
   "cell_type": "markdown",
   "metadata": {},
   "source": [
    "## sorting\n",
    "\n",
    "```sql\n",
    "select * \n",
    "from table_name \n",
    "where condition \n",
    "order by column_name [ASC/DESC]\n",
    "```\n",
    "\n",
    "Example:\n",
    "```sql\n",
    "select student_id,student_name from students order by student_name\n",
    "```\n",
    "> NOTE: default is `ASC`\n",
    "\n",
    "\n",
    "> Question: What if we use two columns to sort?"
   ]
  },
  {
   "cell_type": "markdown",
   "metadata": {},
   "source": [
    "# Concatinations and Subtractions\n"
   ]
  },
  {
   "cell_type": "markdown",
   "metadata": {},
   "source": [
    "## Union\n",
    "\n",
    "find the name of students and professors:\n",
    "```sql\n",
    "select student_name from students\n",
    "union\n",
    "select professor_name from professors\n",
    "```"
   ]
  },
  {
   "cell_type": "markdown",
   "metadata": {},
   "source": [
    "## Intersect\n",
    "\n",
    "find the students and professors which have same name\n",
    "```sql\n",
    "select student_name from students\n",
    "intersect\n",
    "select professor_name from professors\n",
    "```\n",
    "\n",
    "\n",
    "> NOTE: MySQL does not support `intersect`"
   ]
  },
  {
   "cell_type": "markdown",
   "metadata": {},
   "source": [
    "# IN\n",
    "\n",
    "find the students living in Tehran, Tabriz, Mashhad:\n",
    "```sql\n",
    "select * from students where city in ('Tehran','Tabriz','Mashhad')\n",
    "```"
   ]
  },
  {
   "cell_type": "markdown",
   "metadata": {},
   "source": [
    "# Nested Query\n",
    "\n",
    "find the students studing in tehran:\n",
    "```sql\n",
    "select students.*\n",
    "from college,students\n",
    "where college.college_id=students.college_id\n",
    "and college.city = 'Tehran'\n",
    "```\n",
    "\n",
    "OR we can use nested query:\n",
    "```sql\n",
    "select * \n",
    "from students\n",
    "where college_id in (select college_id\n",
    "                     from college\n",
    "                     where city='Tehran');\n",
    "```"
   ]
  },
  {
   "cell_type": "markdown",
   "metadata": {},
   "source": [
    "> QUESTION: try to emulate the `intersect` using `in` operator"
   ]
  },
  {
   "cell_type": "markdown",
   "metadata": {},
   "source": [
    "There are mainly two types of nested queries:\n",
    "- **Independent Nested Queries:** In independent nested queries, query execution starts from innermost query to outermost queries. The execution of inner query is independent of outer query, but the result of inner query is used in execution of outer query. \n",
    "- **Co-related Nested Queries:** In co-related nested queries, the output of inner query depends on the row which is being currently executed in outer query.<br>\n",
    "find the students studing in their own hometown:\n",
    "```sql\n",
    "select * \n",
    "from students\n",
    "where college_id in (select college_id\n",
    "                     from college\n",
    "                     where city=students.city);\n",
    "```\n",
    "OR\n",
    "```sql\n",
    "select * \n",
    "from students\n",
    "where college_id in (select college_id\n",
    "                     from college\n",
    "                     where collage.city=students.city);\n",
    "```"
   ]
  },
  {
   "cell_type": "markdown",
   "metadata": {},
   "source": [
    "# Computational Functions\n",
    "\n",
    "‫‪COUNT,MIN,MAX,AVG,SUM‬‬\n",
    "\n",
    "> NOTE: `NULL` values will be droped while using this functions\n",
    "\n",
    "find the number of top ranked students:\n",
    "```sql\n",
    "select count(student_id)\n",
    "from students\n",
    "where average>=17;\n",
    "```\n",
    "\n",
    "> NOTE: its better to count over primary key.(why?)"
   ]
  },
  {
   "cell_type": "markdown",
   "metadata": {},
   "source": [
    "## using distinct while using functions\n",
    "\n",
    "find the number of courses in term 981:\n",
    "```sql\n",
    "select count(distinct course_id)\n",
    "from sections\n",
    "where term='981'\n",
    "```"
   ]
  },
  {
   "cell_type": "markdown",
   "metadata": {},
   "source": [
    "> QUESTION1: find the best GPA in computer college\n",
    "\n",
    "> QUESTION2: find the name of the student with highest GPA in college number 10\n",
    "\n",
    "> QUESTION3: find the GPA of student named 'JAVADI' in term 981"
   ]
  },
  {
   "cell_type": "code",
   "execution_count": null,
   "metadata": {},
   "outputs": [],
   "source": []
  }
 ],
 "metadata": {
  "kernelspec": {
   "display_name": "Python 3",
   "language": "python",
   "name": "python3"
  },
  "language_info": {
   "codemirror_mode": {
    "name": "ipython",
    "version": 3
   },
   "file_extension": ".py",
   "mimetype": "text/x-python",
   "name": "python",
   "nbconvert_exporter": "python",
   "pygments_lexer": "ipython3",
   "version": "3.8.5"
  }
 },
 "nbformat": 4,
 "nbformat_minor": 4
}
